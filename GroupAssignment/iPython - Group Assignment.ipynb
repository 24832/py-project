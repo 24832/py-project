{
 "cells": [
  {
   "cell_type": "markdown",
   "metadata": {},
   "source": [
    "# Group Assignment\n",
    "(João Palma - Master GreenDS)\n",
    "\n",
    "- Group 1 - Luís, Beatriz, Ella, Johanna\n",
    "- Group 2 - Diogo, Afonso, Vasco, Inês\n",
    "- Group 3 - António, Miguel, Samuel, Aziza, Joana"
   ]
  },
  {
   "cell_type": "markdown",
   "metadata": {},
   "source": [
    "## Introduction and mission set up\n",
    "\n",
    "You have been assigned to a working group, which will contribute to a collaborative project. The collaborative project has 3 working groups contributing to a common goal: \n",
    "- The development of a decision support tool for irrigation needs for 1) early stage plants, 2) established plants\n",
    "\n",
    "The decision to irrigate relies on the following 3 premises:\n",
    "- Soil water tension (pF) should be above certain threshold defined by user/farmer (e.g. 3.2 log (-h))\n",
    "- Irrigation decision should account for the rain forescast in the next 24 hours, i.e. if ammount of rain is over a certain threshold (defined by user), no need to irrigate (e.g. 2 mm)\n",
    "- Irrigation, even if needed, should not occur if vapour pressure deficit is below a certain threshold, defined by user (e.g. 0.5 kPa)\n",
    "\n",
    "Each group will focus on a part of this tool\n",
    "- Group 1 - Will Retrieve weather data and soil state predictions from online api\n",
    "  - delivers/continue the file group1.py\n",
    "- Group 2 - Calculates soil tension (pF) \n",
    "  - delivers/continue the file group2.py\n",
    "- Group 3 (end point) - Creates the API to interact with enduser \n",
    "  - delivers/continue the file group3_endpoint.py\n",
    "- the file materials.py provides supporting code\n",
    "\n",
    "### workflow\n",
    "<img src=\"grp_assignment_schema.jpg\"/>\n",
    "\n",
    "\n",
    "### Endpoint result would be similar to this example:\n",
    "<img src=\"endpoint_result.png\"/>"
   ]
  },
  {
   "cell_type": "markdown",
   "metadata": {},
   "source": [
    "# Delivery rules\n",
    "- Each group is independent to edit the file with whichever members of the group.\n",
    "- Pull request needs to be done by one member of the group\n",
    "- Each group only edits their file. Only pull requests of your group file will be accepted\n",
    "- First attempt: 11th January 2023\n",
    "- Deadline: 25th January 2023\n",
    "- Facultative: You are free to further develop the group3_endpoint.py, in particular the decision algorithm and visualization. You just need to create group3_endpoint_YourName.py and commit/push/PR "
   ]
  }
 ],
 "metadata": {
  "kernelspec": {
   "display_name": "Python 3.9.12 ('base')",
   "language": "python",
   "name": "python3"
  },
  "language_info": {
   "codemirror_mode": {
    "name": "ipython",
    "version": 3
   },
   "file_extension": ".py",
   "mimetype": "text/x-python",
   "name": "python",
   "nbconvert_exporter": "python",
   "pygments_lexer": "ipython3",
   "version": "3.9.12"
  },
  "orig_nbformat": 4,
  "vscode": {
   "interpreter": {
    "hash": "19d1d53a962d236aa061289c2ac16dc8e6d9648c89fe79f459ae9a3493bc67b4"
   }
  }
 },
 "nbformat": 4,
 "nbformat_minor": 2
}
